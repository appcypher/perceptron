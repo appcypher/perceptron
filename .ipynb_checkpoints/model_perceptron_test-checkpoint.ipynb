{
 "cells": [
  {
   "cell_type": "code",
   "execution_count": 1,
   "metadata": {},
   "outputs": [],
   "source": [
    "from model_perceptron import Perceptron\n",
    "import matplotlib.pyplot as plt \n",
    "import numpy as np"
   ]
  },
  {
   "cell_type": "code",
   "execution_count": 2,
   "metadata": {},
   "outputs": [
    {
     "name": "stdout",
     "output_type": "stream",
     "text": [
      "Predictions> [1 1 1 1 1 1 1 1 1 1 0 0 0 0 0 0 0 0 0 0]\n",
      "Expected Outputs> [1 1 1 1 1 1 1 1 1 1 0 0 0 0 0 0 0 0 0 0]\n",
      "Classification Accuracy> 1.0\n"
     ]
    },
    {
     "data": {
      "image/png": "[encoded data removed]",
      "text/plain": [
       "<Figure size 432x288 with 1 Axes>"
      ]
     },
     "metadata": {
      "needs_background": "light"
     },
     "output_type": "display_data"
    },
    {
     "name": "stdout",
     "output_type": "stream",
     "text": [
      "Perceptron weights> [ 0.01  -0.427]\n",
      "Perceptron bias> -0.15\n"
     ]
    }
   ],
   "source": [
    "# training_samples = np.array([\n",
    "#     [1.0, 0.0],\n",
    "#     [1.0, 2.0]\n",
    "# ])\n",
    "\n",
    "# training_labels = np.array([0, 1])\n",
    "\n",
    "\n",
    "training_samples = np.array([\n",
    "    [0.0, 2.0],\n",
    "    [1.0, 3.5],\n",
    "    [2.0, 3.1],\n",
    "    [0.1, 2.4],\n",
    "    [0.2, 5.0],\n",
    "    [1.1, 4.4],\n",
    "    [2.1, 3.2],\n",
    "    [0.4, 3.7],\n",
    "    [3.1, 4.9],\n",
    "    [2.1, 3.4],\n",
    "    [0.0, 0.0],\n",
    "    [5.0, 1.5],\n",
    "    [3.0, 1.1],\n",
    "    [1.1, 0.4],\n",
    "    [2.2, 1.0],\n",
    "    [1.0, 1.4],\n",
    "    [2.3, 1.2],\n",
    "    [4.4, 0.9],\n",
    "    [3.1, 1.9],\n",
    "    [2.1, 1.4],\n",
    "])\n",
    "\n",
    "training_labels = np.array([0, 0, 0, 0, 0, 0, 0, 0, 0, 0, 1, 1, 1, 1, 1, 1, 1, 1, 1, 1])\n",
    "\n",
    "test_samples = np.array([\n",
    "    [0.0, 0.9],\n",
    "    [4.8, 0.5],\n",
    "    [4.5, 1.3],\n",
    "    [1.5, 1.4],\n",
    "    [2.4, 0.0],\n",
    "    [-1.2, 1.5],\n",
    "    [2.0, 1.1],\n",
    "    [4.9, 0.7],\n",
    "    [3.7, 1.5],\n",
    "    [2.8, 1.8],\n",
    "    [0.0, 2.0],\n",
    "    [2.0, 3.1],\n",
    "    [0.1, 3.4],\n",
    "    [0.2, 5.0],\n",
    "    [1.1, 2.4],\n",
    "    [2.1, 2.2],\n",
    "    [0.4, 4.9],\n",
    "    [3.1, 3.9],\n",
    "    [2.1, 2.4],\n",
    "    [1.1, 3.6],\n",
    "])\n",
    "\n",
    "expected_outputs = np.array([1, 1, 1, 1, 1, 1, 1, 1, 1, 1, 0, 0, 0, 0, 0, 0, 0, 0, 0, 0])\n",
    "\n",
    "perceptron = Perceptron()\n",
    "\n",
    "perceptron.train(training_samples, training_labels)\n",
    "\n",
    "predictions = perceptron.test(test_samples, expected_outputs)\n",
    "\n",
    "print('Predictions>', predictions)\n",
    "print('Expected Outputs>', expected_outputs)\n",
    "print(\"Classification Accuracy>\", perceptron.accuracy)\n",
    "\n",
    "fig = plt.figure()\n",
    "plt.scatter(test_samples[:, 0], test_samples[:, 1], marker=\"o\", c=predictions)\n",
    "plt.show()\n",
    "\n",
    "print('Perceptron weights>', perceptron.weights)\n",
    "print('Perceptron bias>', perceptron.bias)"
   ]
  },
  {
   "cell_type": "code",
   "execution_count": 3,
   "metadata": {},
   "outputs": [
    {
     "name": "stdout",
     "output_type": "stream",
     "text": [
      "0.5\n",
      "1.0\n",
      "1.5\n"
     ]
    }
   ],
   "source": [
    "# Shared Scale\n",
    "# If threshold is 1, we simply can classify values above 2 as one class and the values below as another by setting the weight to 0.5\n",
    "print(1 * 0.5)\n",
    "print(2 * 0.5)\n",
    "print(3 * 0.5)"
   ]
  },
  {
   "cell_type": "code",
   "execution_count": 4,
   "metadata": {},
   "outputs": [
    {
     "name": "stdout",
     "output_type": "stream",
     "text": [
      "-0.01\n",
      "-1.024\n",
      "-1.501\n"
     ]
    }
   ],
   "source": [
    "w = np.array([-0.01, -0.507])\n",
    "\n",
    "a = np.array([1, 0.0])\n",
    "b = np.array([1, 2])\n",
    "c = np.array([-2, 3])\n",
    "\n",
    "print(np.dot(w, a))\n",
    "print(np.dot(w, b))\n",
    "print(np.dot(w, c))"
   ]
  },
  {
   "cell_type": "code",
   "execution_count": 5,
   "metadata": {},
   "outputs": [
    {
     "name": "stdout",
     "output_type": "stream",
     "text": [
      "Predictions> [1 1 1 1 0 0 0 0]\n",
      "Expected Outputs> [1 1 1 1 0 0 0 0]\n",
      "Classification Accuracy> 1.0\n"
     ]
    },
    {
     "data": {
      "image/png": "[encoded data removed]",
      "text/plain": [
       "<Figure size 432x288 with 1 Axes>"
      ]
     },
     "metadata": {
      "needs_background": "light"
     },
     "output_type": "display_data"
    },
    {
     "name": "stdout",
     "output_type": "stream",
     "text": [
      "Perceptron weights> [-0.12   0.121]\n",
      "Perceptron bias> -1.0000000000000007\n"
     ]
    }
   ],
   "source": [
    "training_samples = np.array([\n",
    "    [1.0, 1.0],\n",
    "    [2.0, 2.0],\n",
    "    [3.0, 3.0],\n",
    "    [4.0, 4.0],\n",
    "    [1.0, 0.9],\n",
    "    [2.0, 1.9],\n",
    "    [3.0, 2.9],\n",
    "    [4.0, 3.9],\n",
    "])\n",
    "\n",
    "training_labels = np.array([1, 1, 1, 1, 0, 0, 0, 0])\n",
    "# training_labels = np.array([1, 1, 0, 0])\n",
    "\n",
    "test_samples = np.array([\n",
    "    [1.0, 1.1],\n",
    "    [2.0, 2.1],\n",
    "    [3.0, 3.1],\n",
    "    [4.0, 4.1],\n",
    "    [1.0, 0.8],\n",
    "    [2.0, 1.8],\n",
    "    [3.0, 2.8],\n",
    "    [4.0, 3.8],\n",
    "])\n",
    "\n",
    "expected_outputs = np.array([1, 1, 1, 1, 0, 0, 0, 0,])\n",
    "\n",
    "perceptron = Perceptron()\n",
    "\n",
    "perceptron.train(training_samples, training_labels)\n",
    "\n",
    "predictions = perceptron.test(test_samples, expected_outputs)\n",
    "\n",
    "print('Predictions>', predictions)\n",
    "print('Expected Outputs>', expected_outputs)\n",
    "print(\"Classification Accuracy>\", perceptron.accuracy)\n",
    "\n",
    "fig = plt.figure()\n",
    "plt.scatter(test_samples[:, 0], test_samples[:, 1], marker=\"o\", c=predictions)\n",
    "plt.show()\n",
    "\n",
    "print('Perceptron weights>', perceptron.weights)\n",
    "print('Perceptron bias>', perceptron.bias)"
   ]
  },
  {
   "cell_type": "code",
   "execution_count": null,
   "metadata": {},
   "outputs": [],
   "source": []
  }
 ],
 "metadata": {
  "kernelspec": {
   "display_name": "Python 3.8.2 64-bit",
   "language": "python",
   "name": "python382"
  },
  "language_info": {
   "codemirror_mode": {
    "name": "ipython",
    "version": 3
   },
   "file_extension": ".py",
   "mimetype": "text/x-python",
   "name": "python",
   "nbconvert_exporter": "python",
   "pygments_lexer": "ipython3",
   "version": "3.8.2"
  }
 },
 "nbformat": 4,
 "nbformat_minor": 4
}
